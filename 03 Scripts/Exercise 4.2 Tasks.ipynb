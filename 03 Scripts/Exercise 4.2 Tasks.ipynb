{
 "cells": [
  {
   "cell_type": "markdown",
   "id": "827c1b2e",
   "metadata": {},
   "source": [
    "## 01. Importing libraries"
   ]
  },
  {
   "cell_type": "code",
   "execution_count": 1,
   "id": "27bde322",
   "metadata": {},
   "outputs": [],
   "source": [
    "# import libraries\n",
    "import pandas as pd\n",
    "import numpy as np\n",
    "import os"
   ]
  },
  {
   "cell_type": "markdown",
   "id": "4bbdbda3",
   "metadata": {},
   "source": [
    "## 02. Data Types"
   ]
  },
  {
   "cell_type": "code",
   "execution_count": 3,
   "id": "3c730b13",
   "metadata": {},
   "outputs": [],
   "source": [
    "x = 25"
   ]
  },
  {
   "cell_type": "code",
   "execution_count": 4,
   "id": "7930231e",
   "metadata": {},
   "outputs": [],
   "source": [
    "y = 75"
   ]
  },
  {
   "cell_type": "code",
   "execution_count": 5,
   "id": "011876f4",
   "metadata": {},
   "outputs": [
    {
     "data": {
      "text/plain": [
       "100"
      ]
     },
     "execution_count": 5,
     "metadata": {},
     "output_type": "execute_result"
    }
   ],
   "source": [
    "x + y"
   ]
  },
  {
   "cell_type": "code",
   "execution_count": 6,
   "id": "17c74fcd",
   "metadata": {},
   "outputs": [],
   "source": [
    "z = 125"
   ]
  },
  {
   "cell_type": "code",
   "execution_count": 7,
   "id": "b5704f44",
   "metadata": {},
   "outputs": [
    {
     "data": {
      "text/plain": [
       "100"
      ]
     },
     "execution_count": 7,
     "metadata": {},
     "output_type": "execute_result"
    }
   ],
   "source": [
    "z - x"
   ]
  },
  {
   "cell_type": "code",
   "execution_count": 8,
   "id": "73d2eda7",
   "metadata": {},
   "outputs": [
    {
     "data": {
      "text/plain": [
       "100"
      ]
     },
     "execution_count": 8,
     "metadata": {},
     "output_type": "execute_result"
    }
   ],
   "source": [
    "x + x + x + x"
   ]
  },
  {
   "cell_type": "code",
   "execution_count": 9,
   "id": "0cc28a5f",
   "metadata": {},
   "outputs": [],
   "source": [
    "a = 5.25"
   ]
  },
  {
   "cell_type": "code",
   "execution_count": 10,
   "id": "34c2d238",
   "metadata": {},
   "outputs": [],
   "source": [
    "b = 12.25"
   ]
  },
  {
   "cell_type": "code",
   "execution_count": 11,
   "id": "29190d50",
   "metadata": {},
   "outputs": [
    {
     "data": {
      "text/plain": [
       "2.3333333333333335"
      ]
     },
     "execution_count": 11,
     "metadata": {},
     "output_type": "execute_result"
    }
   ],
   "source": [
    "b/a"
   ]
  },
  {
   "cell_type": "code",
   "execution_count": 14,
   "id": "7ce601a8",
   "metadata": {},
   "outputs": [],
   "source": [
    "c = 'Good '"
   ]
  },
  {
   "cell_type": "code",
   "execution_count": 15,
   "id": "816dbeda",
   "metadata": {},
   "outputs": [],
   "source": [
    "d = 'morning!'"
   ]
  },
  {
   "cell_type": "code",
   "execution_count": 16,
   "id": "ac212b0d",
   "metadata": {},
   "outputs": [
    {
     "data": {
      "text/plain": [
       "'Good morning!'"
      ]
     },
     "execution_count": 16,
     "metadata": {},
     "output_type": "execute_result"
    }
   ],
   "source": [
    "c + d"
   ]
  },
  {
   "cell_type": "code",
   "execution_count": 17,
   "id": "3ee6c3a8",
   "metadata": {},
   "outputs": [],
   "source": [
    "e = 'evening!'"
   ]
  },
  {
   "cell_type": "code",
   "execution_count": 18,
   "id": "70b21940",
   "metadata": {},
   "outputs": [
    {
     "data": {
      "text/plain": [
       "'Good '"
      ]
     },
     "execution_count": 18,
     "metadata": {},
     "output_type": "execute_result"
    }
   ],
   "source": [
    "c "
   ]
  },
  {
   "cell_type": "code",
   "execution_count": 19,
   "id": "0e54639a",
   "metadata": {},
   "outputs": [
    {
     "data": {
      "text/plain": [
       "'Good evening!'"
      ]
     },
     "execution_count": 19,
     "metadata": {},
     "output_type": "execute_result"
    }
   ],
   "source": [
    "c + e"
   ]
  },
  {
   "cell_type": "code",
   "execution_count": 20,
   "id": "f12e1aeb",
   "metadata": {},
   "outputs": [
    {
     "data": {
      "text/plain": [
       "'Good evening!Good evening!Good evening!Good evening!Good evening!Good evening!Good evening!Good evening!Good evening!Good evening!Good evening!Good evening!Good evening!Good evening!Good evening!Good evening!Good evening!Good evening!Good evening!Good evening!Good evening!Good evening!Good evening!Good evening!Good evening!Good evening!Good evening!Good evening!Good evening!Good evening!Good evening!Good evening!Good evening!Good evening!Good evening!Good evening!Good evening!Good evening!Good evening!Good evening!Good evening!Good evening!Good evening!Good evening!Good evening!Good evening!Good evening!Good evening!Good evening!Good evening!Good evening!Good evening!Good evening!Good evening!Good evening!Good evening!Good evening!Good evening!Good evening!Good evening!Good evening!Good evening!Good evening!Good evening!Good evening!Good evening!Good evening!Good evening!Good evening!Good evening!Good evening!Good evening!Good evening!Good evening!Good evening!Good evening!Good evening!Good evening!Good evening!Good evening!Good evening!Good evening!Good evening!Good evening!Good evening!Good evening!Good evening!Good evening!Good evening!Good evening!Good evening!Good evening!Good evening!Good evening!Good evening!Good evening!Good evening!Good evening!Good evening!Good evening!'"
      ]
     },
     "execution_count": 20,
     "metadata": {},
     "output_type": "execute_result"
    }
   ],
   "source": [
    "(c+e)*100"
   ]
  },
  {
   "cell_type": "code",
   "execution_count": null,
   "id": "46152243",
   "metadata": {},
   "outputs": [],
   "source": []
  }
 ],
 "metadata": {
  "kernelspec": {
   "display_name": "Python 3 (ipykernel)",
   "language": "python",
   "name": "python3"
  },
  "language_info": {
   "codemirror_mode": {
    "name": "ipython",
    "version": 3
   },
   "file_extension": ".py",
   "mimetype": "text/x-python",
   "name": "python",
   "nbconvert_exporter": "python",
   "pygments_lexer": "ipython3",
   "version": "3.11.5"
  }
 },
 "nbformat": 4,
 "nbformat_minor": 5
}
